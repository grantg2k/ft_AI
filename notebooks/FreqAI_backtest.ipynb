{
 "cells": [
  {
   "cell_type": "code",
   "execution_count": 30,
   "id": "e270c23b-ae49-4b73-95bc-a1701a486c01",
   "metadata": {
    "tags": []
   },
   "outputs": [],
   "source": [
    "import os\n",
    "\n",
    "# Set the strategy name as an environment variable\n",
    "os.environ['STRATEGY'] = 'FreqaiAutoMLClassifierStrategy'\n",
    "os.environ['TIMERANGE'] = '20230101-20230731'\n",
    "os.environ['MODEL'] = \"FreqaiH2OAutoML\"\n",
    "\n",
    "backtestcmd = f\"freqtrade backtesting --strategy {os.environ['STRATEGY']} --freqaimodel {os.environ['MODEL']} --timerange {os.environ['TIMERANGE']} --config user_data/config{os.environ['MODEL']}.json\"\n",
    "hocmd = f\"freqtrade hyperopt --strategy {os.environ['STRATEGY']} --timerange {os.environ['TIMERANGE']} --freqaimodel {os.environ['MODEL']} --config user_data/config{os.environ['STRATEGY']}.json --hyperopt-loss OnlyProfitHyperOptLoss -j 30 --epochs 2500 --spaces buy sell\""
   ]
  },
  {
   "cell_type": "code",
   "execution_count": null,
   "id": "627c2ad9-95ce-41ec-919e-2e066c084030",
   "metadata": {},
   "outputs": [],
   "source": [
    "!{backtestcmd}"
   ]
  },
  {
   "cell_type": "code",
   "execution_count": 33,
   "id": "39918304-8218-4e61-8301-029311d10c54",
   "metadata": {},
   "outputs": [],
   "source": [
    "import h2o\n",
    "h2o.cluster().shutdown()"
   ]
  },
  {
   "cell_type": "code",
   "execution_count": null,
   "id": "e69c9c04-536b-428c-84de-626433cce6ab",
   "metadata": {},
   "outputs": [],
   "source": [
    "h2o.init(max_mem_size=\"12G\", bind_to_localhost=False)"
   ]
  }
 ],
 "metadata": {
  "kernelspec": {
   "display_name": "Python 3 (ipykernel)",
   "language": "python",
   "name": "python3"
  },
  "language_info": {
   "codemirror_mode": {
    "name": "ipython",
    "version": 3
   },
   "file_extension": ".py",
   "mimetype": "text/x-python",
   "name": "python",
   "nbconvert_exporter": "python",
   "pygments_lexer": "ipython3",
   "version": "3.11.7"
  }
 },
 "nbformat": 4,
 "nbformat_minor": 5
}
